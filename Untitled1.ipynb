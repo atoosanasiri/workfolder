{
 "cells": [
  {
   "cell_type": "code",
   "execution_count": 4,
   "metadata": {},
   "outputs": [],
   "source": [
    "import os as os\n",
    "import os.path\n",
    "import pickle\n",
    "import scipy.io\n",
    "import numpy as np\n",
    "import time\n",
    "import datetime\n",
    "import json\n",
    "from pprint import pprint\n",
    "import wget\n",
    "import datetime\n",
    "import matplotlib.pyplot as plt"
   ]
  },
  {
   "cell_type": "code",
   "execution_count": 5,
   "metadata": {},
   "outputs": [
    {
     "ename": "ImportError",
     "evalue": "No module named 'mpl_toolkits.basemap'",
     "output_type": "error",
     "traceback": [
      "\u001b[1;31m---------------------------------------------------------------------------\u001b[0m",
      "\u001b[1;31mImportError\u001b[0m                               Traceback (most recent call last)",
      "\u001b[1;32m<ipython-input-5-526df15f58c1>\u001b[0m in \u001b[0;36m<module>\u001b[1;34m()\u001b[0m\n\u001b[1;32m----> 1\u001b[1;33m \u001b[1;32mfrom\u001b[0m \u001b[0mmpl_toolkits\u001b[0m\u001b[1;33m.\u001b[0m\u001b[0mbasemap\u001b[0m \u001b[1;32mimport\u001b[0m \u001b[0mBasemap\u001b[0m\u001b[1;33m\u001b[0m\u001b[0m\n\u001b[0m\u001b[0;32m      2\u001b[0m \u001b[1;32mimport\u001b[0m \u001b[0mmatplotlib\u001b[0m\u001b[1;33m.\u001b[0m\u001b[0mpyplot\u001b[0m \u001b[1;32mas\u001b[0m \u001b[0mplt\u001b[0m\u001b[1;33m\u001b[0m\u001b[0m\n\u001b[0;32m      3\u001b[0m \u001b[1;31m# setup Lambert Conformal basemap.\u001b[0m\u001b[1;33m\u001b[0m\u001b[1;33m\u001b[0m\u001b[0m\n\u001b[0;32m      4\u001b[0m m = Basemap(width=12000000,height=9000000,projection='lcc',\n\u001b[0;32m      5\u001b[0m             resolution='c',lat_1=45.,lat_2=55,lat_0=50,lon_0=-107.)\n",
      "\u001b[1;31mImportError\u001b[0m: No module named 'mpl_toolkits.basemap'"
     ]
    }
   ],
   "source": [
    "from mpl_toolkits.basemap import Basemap\n",
    "import matplotlib.pyplot as plt\n",
    "# setup Lambert Conformal basemap.\n",
    "m = Basemap(width=12000000,height=9000000,projection='lcc',\n",
    "            resolution='c',lat_1=45.,lat_2=55,lat_0=50,lon_0=-107.)\n",
    "# draw coastlines.\n",
    "m.drawcoastlines()\n",
    "# draw a boundary around the map, fill the background.\n",
    "# this background will end up being the ocean color, since\n",
    "# the continents will be drawn on top.\n",
    "m.drawmapboundary(fill_color='aqua')\n",
    "# fill continents, set lake color same as ocean color.\n",
    "m.fillcontinents(color='coral',lake_color='aqua')\n",
    "plt.show()"
   ]
  },
  {
   "cell_type": "code",
   "execution_count": 8,
   "metadata": {},
   "outputs": [
    {
     "ename": "ImportError",
     "evalue": "No module named 'pyproj'",
     "output_type": "error",
     "traceback": [
      "\u001b[1;31m---------------------------------------------------------------------------\u001b[0m",
      "\u001b[1;31mImportError\u001b[0m                               Traceback (most recent call last)",
      "\u001b[1;32m<ipython-input-8-98cb605ea9de>\u001b[0m in \u001b[0;36m<module>\u001b[1;34m()\u001b[0m\n\u001b[1;32m----> 1\u001b[1;33m \u001b[1;32mimport\u001b[0m \u001b[0mpyproj\u001b[0m\u001b[1;33m\u001b[0m\u001b[0m\n\u001b[0m",
      "\u001b[1;31mImportError\u001b[0m: No module named 'pyproj'"
     ]
    }
   ],
   "source": [
    "import pyproj"
   ]
  },
  {
   "cell_type": "code",
   "execution_count": 9,
   "metadata": {},
   "outputs": [
    {
     "name": "stdout",
     "output_type": "stream",
     "text": [
      "Collecting pyproj\n",
      "  Using cached https://files.pythonhosted.org/packages/29/72/5c1888c4948a0c7b736d10e0f0f69966e7c0874a660222ed0a2c2c6daa9f/pyproj-1.9.5.1.tar.gz\n",
      "    Complete output from command python setup.py egg_info:\n",
      "    using bundled proj4..\n",
      "    Traceback (most recent call last):\n",
      "      File \"C:\\Users\\User\\Anaconda3\\envs\\tensorflow\\lib\\site-packages\\setuptools\\msvc.py\", line 490, in _find_latest_available_vc_ver\n",
      "        return self.find_available_vc_vers()[-1]\n",
      "    IndexError: list index out of range\n",
      "    \n",
      "    During handling of the above exception, another exception occurred:\n",
      "    \n",
      "    Traceback (most recent call last):\n",
      "      File \"<string>\", line 1, in <module>\n",
      "      File \"C:\\Users\\User\\AppData\\Local\\Temp\\pip-install-4vqhbc02\\pyproj\\setup.py\", line 72, in <module>\n",
      "        objects = cc.compile(['nad2bin.c', 'src/pj_malloc.c'])\n",
      "      File \"C:\\Users\\User\\Anaconda3\\envs\\tensorflow\\lib\\distutils\\_msvccompiler.py\", line 304, in compile\n",
      "        self.initialize()\n",
      "      File \"C:\\Users\\User\\Anaconda3\\envs\\tensorflow\\lib\\distutils\\_msvccompiler.py\", line 197, in initialize\n",
      "        vc_env = _get_vc_env(plat_spec)\n",
      "      File \"C:\\Users\\User\\Anaconda3\\envs\\tensorflow\\lib\\site-packages\\setuptools\\msvc.py\", line 185, in msvc14_get_vc_env\n",
      "        return EnvironmentInfo(plat_spec, vc_min_ver=14.0).return_env()\n",
      "      File \"C:\\Users\\User\\Anaconda3\\envs\\tensorflow\\lib\\site-packages\\setuptools\\msvc.py\", line 844, in __init__\n",
      "        self.si = SystemInfo(self.ri, vc_ver)\n",
      "      File \"C:\\Users\\User\\Anaconda3\\envs\\tensorflow\\lib\\site-packages\\setuptools\\msvc.py\", line 486, in __init__\n",
      "        self.vc_ver = vc_ver or self._find_latest_available_vc_ver()\n",
      "      File \"C:\\Users\\User\\Anaconda3\\envs\\tensorflow\\lib\\site-packages\\setuptools\\msvc.py\", line 493, in _find_latest_available_vc_ver\n",
      "        raise distutils.errors.DistutilsPlatformError(err)\n",
      "    distutils.errors.DistutilsPlatformError: Microsoft Visual C++ 14.0 is required. Get it with \"Microsoft Visual C++ Build Tools\": http://landinghub.visualstudio.com/visual-cpp-build-tools\n",
      "    \n",
      "    ----------------------------------------\n"
     ]
    },
    {
     "name": "stderr",
     "output_type": "stream",
     "text": [
      "Command \"python setup.py egg_info\" failed with error code 1 in C:\\Users\\User\\AppData\\Local\\Temp\\pip-install-4vqhbc02\\pyproj\\\n",
      "You are using pip version 10.0.1, however version 18.0 is available.\n",
      "You should consider upgrading via the 'python -m pip install --upgrade pip' command.\n"
     ]
    }
   ],
   "source": [
    "!pip install pyproj"
   ]
  },
  {
   "cell_type": "code",
   "execution_count": null,
   "metadata": {},
   "outputs": [],
   "source": []
  },
  {
   "cell_type": "code",
   "execution_count": null,
   "metadata": {},
   "outputs": [],
   "source": []
  }
 ],
 "metadata": {
  "kernelspec": {
   "display_name": "Python 3",
   "language": "python",
   "name": "python3"
  },
  "language_info": {
   "codemirror_mode": {
    "name": "ipython",
    "version": 3
   },
   "file_extension": ".py",
   "mimetype": "text/x-python",
   "name": "python",
   "nbconvert_exporter": "python",
   "pygments_lexer": "ipython3",
   "version": "3.5.5"
  }
 },
 "nbformat": 4,
 "nbformat_minor": 2
}
